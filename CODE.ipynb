{
 "cells": [
  {
   "cell_type": "code",
   "execution_count": 21,
   "source": [
    "import cv2 #pip install opencv-python\r\n",
    "import pandas as pd #pip install pandas\r\n",
    "import os #no need to install\r\n",
    "from pyzbar.pyzbar import decode #pip install pyzbar \r\n",
    "from openpyxl import load_workbook #pip install openpyxl\r\n",
    "import numpy as np\r\n",
    "import glob\r\n",
    "\r\n",
    "os.chdir(\"D:\\LEARN\\Python\\Final_Project\")"
   ],
   "outputs": [],
   "metadata": {}
  },
  {
   "cell_type": "code",
   "execution_count": 30,
   "source": [
    "card_list = list()\r\n",
    "# cards = [os.path.basename(x) for x in glob.glob(\"Final_Project\\*.jpg\")]\r\n",
    "for name in glob.glob(\"Final_Project\\*.jpg\"): \r\n",
    "  card = cv2.imread(name)\r\n",
    "  card_list.append(card)\r\n",
    "\r\n",
    "print(card_list)"
   ],
   "outputs": [
    {
     "output_type": "stream",
     "name": "stdout",
     "text": [
      "[]\n"
     ]
    }
   ],
   "metadata": {}
  },
  {
   "cell_type": "markdown",
   "source": [
    "### Ex3: Create a student dataset with ID"
   ],
   "metadata": {}
  },
  {
   "cell_type": "code",
   "execution_count": 3,
   "source": [
    "student_data = pd.read_excel(\"DATA.xlsx\", sheet_name = \"Student data\")\r\n",
    "student_data.head()"
   ],
   "outputs": [
    {
     "output_type": "execute_result",
     "data": {
      "text/html": [
       "<div>\n",
       "<style scoped>\n",
       "    .dataframe tbody tr th:only-of-type {\n",
       "        vertical-align: middle;\n",
       "    }\n",
       "\n",
       "    .dataframe tbody tr th {\n",
       "        vertical-align: top;\n",
       "    }\n",
       "\n",
       "    .dataframe thead th {\n",
       "        text-align: right;\n",
       "    }\n",
       "</style>\n",
       "<table border=\"1\" class=\"dataframe\">\n",
       "  <thead>\n",
       "    <tr style=\"text-align: right;\">\n",
       "      <th></th>\n",
       "      <th>Student_ID</th>\n",
       "      <th>STUDENT</th>\n",
       "      <th>Student_Major</th>\n",
       "      <th>Student_Class</th>\n",
       "      <th>Student_Email</th>\n",
       "    </tr>\n",
       "  </thead>\n",
       "  <tbody>\n",
       "    <tr>\n",
       "      <th>0</th>\n",
       "      <td>20040004</td>\n",
       "      <td>Nguyễn Quang Hào</td>\n",
       "      <td>DS</td>\n",
       "      <td>20DS</td>\n",
       "      <td>hao.nguyen200404@vnuk.edu.vn</td>\n",
       "    </tr>\n",
       "    <tr>\n",
       "      <th>1</th>\n",
       "      <td>20050005</td>\n",
       "      <td>Phan Thanh Lâm</td>\n",
       "      <td>THM</td>\n",
       "      <td>20THM2</td>\n",
       "      <td>NaN</td>\n",
       "    </tr>\n",
       "    <tr>\n",
       "      <th>2</th>\n",
       "      <td>20010039</td>\n",
       "      <td>Lê Đại Hải</td>\n",
       "      <td>IBM</td>\n",
       "      <td>20IBM3</td>\n",
       "      <td>NaN</td>\n",
       "    </tr>\n",
       "    <tr>\n",
       "      <th>3</th>\n",
       "      <td>20040000</td>\n",
       "      <td>Lê Thị Tấm</td>\n",
       "      <td>CSE</td>\n",
       "      <td>20CSE</td>\n",
       "      <td>NaN</td>\n",
       "    </tr>\n",
       "    <tr>\n",
       "      <th>4</th>\n",
       "      <td>20040001</td>\n",
       "      <td>Trần Chín</td>\n",
       "      <td>THM</td>\n",
       "      <td>20THM1</td>\n",
       "      <td>NaN</td>\n",
       "    </tr>\n",
       "  </tbody>\n",
       "</table>\n",
       "</div>"
      ],
      "text/plain": [
       "   Student_ID           STUDENT Student_Major Student_Class  \\\n",
       "0    20040004  Nguyễn Quang Hào            DS          20DS   \n",
       "1    20050005    Phan Thanh Lâm           THM        20THM2   \n",
       "2    20010039        Lê Đại Hải           IBM        20IBM3   \n",
       "3    20040000        Lê Thị Tấm           CSE         20CSE   \n",
       "4    20040001         Trần Chín           THM        20THM1   \n",
       "\n",
       "                  Student_Email  \n",
       "0  hao.nguyen200404@vnuk.edu.vn  \n",
       "1                           NaN  \n",
       "2                           NaN  \n",
       "3                           NaN  \n",
       "4                           NaN  "
      ]
     },
     "metadata": {},
     "execution_count": 3
    }
   ],
   "metadata": {}
  },
  {
   "cell_type": "markdown",
   "source": [
    "### Ex4: Create a book dataset with code "
   ],
   "metadata": {}
  },
  {
   "cell_type": "code",
   "execution_count": 4,
   "source": [
    "book_data = pd.read_excel(\"DATA.xlsx\", sheet_name = \"Book data\")\r\n",
    "book_data['CODE'] = book_data['CODE'].apply(lambda x: '{:.0f}'.format(x))\r\n",
    "book_data.head()"
   ],
   "outputs": [
    {
     "output_type": "execute_result",
     "data": {
      "text/html": [
       "<div>\n",
       "<style scoped>\n",
       "    .dataframe tbody tr th:only-of-type {\n",
       "        vertical-align: middle;\n",
       "    }\n",
       "\n",
       "    .dataframe tbody tr th {\n",
       "        vertical-align: top;\n",
       "    }\n",
       "\n",
       "    .dataframe thead th {\n",
       "        text-align: right;\n",
       "    }\n",
       "</style>\n",
       "<table border=\"1\" class=\"dataframe\">\n",
       "  <thead>\n",
       "    <tr style=\"text-align: right;\">\n",
       "      <th></th>\n",
       "      <th>CODE</th>\n",
       "      <th>BOOK</th>\n",
       "      <th>AUTHOR</th>\n",
       "    </tr>\n",
       "  </thead>\n",
       "  <tbody>\n",
       "    <tr>\n",
       "      <th>0</th>\n",
       "      <td>8936037799377</td>\n",
       "      <td>Những Cuộc Phiêu Lưu Trong Kinh Doanh</td>\n",
       "      <td>John Brooks</td>\n",
       "    </tr>\n",
       "    <tr>\n",
       "      <th>1</th>\n",
       "      <td>8935251405972</td>\n",
       "      <td>Tư Duy Nhanh Và Chậm</td>\n",
       "      <td>Daniel Kahneman</td>\n",
       "    </tr>\n",
       "    <tr>\n",
       "      <th>2</th>\n",
       "      <td>8935235219489</td>\n",
       "      <td>Vào Trong Hoang Dã</td>\n",
       "      <td>Jon Krakauer</td>\n",
       "    </tr>\n",
       "    <tr>\n",
       "      <th>3</th>\n",
       "      <td>8935235229693</td>\n",
       "      <td>Tương Lai Sau Đại Dịch Covid</td>\n",
       "      <td>Jason Schenker</td>\n",
       "    </tr>\n",
       "    <tr>\n",
       "      <th>4</th>\n",
       "      <td>8935235218130</td>\n",
       "      <td>Yêu những điều không hoàn hảo</td>\n",
       "      <td>Hea Min</td>\n",
       "    </tr>\n",
       "  </tbody>\n",
       "</table>\n",
       "</div>"
      ],
      "text/plain": [
       "            CODE                                   BOOK           AUTHOR\n",
       "0  8936037799377  Những Cuộc Phiêu Lưu Trong Kinh Doanh      John Brooks\n",
       "1  8935251405972                   Tư Duy Nhanh Và Chậm  Daniel Kahneman\n",
       "2  8935235219489                     Vào Trong Hoang Dã     Jon Krakauer\n",
       "3  8935235229693           Tương Lai Sau Đại Dịch Covid   Jason Schenker\n",
       "4  8935235218130          Yêu những điều không hoàn hảo          Hea Min"
      ]
     },
     "metadata": {},
     "execution_count": 4
    }
   ],
   "metadata": {}
  },
  {
   "cell_type": "markdown",
   "source": [
    "### Ex5: Scan infomation on Student Card"
   ],
   "metadata": {}
  },
  {
   "cell_type": "code",
   "execution_count": 25,
   "source": [
    "card = cv2.imread('Student_Card/STUDENT_CARD_00.jpg')\r\n",
    "card_01 = cv2.imread('Student_Card/STUDENT_CARD_01.jpg')\r\n",
    "card_02 = cv2.imread('Student_Card/STUDENT_CARD_02.jpg')\r\n",
    "def student_card_detect(card):\r\n",
    "    code = decode(card)\r\n",
    "    id = code[0].data.decode('utf-8')\r\n",
    "    for i in range(len(student_data)):\r\n",
    "        if int(id) == int(student_data.loc[i,'Student_ID']):\r\n",
    "            return(student_data.loc[i])\r\n",
    "\r\n",
    "print(student_card_detect(card)) \r\n"
   ],
   "outputs": [
    {
     "output_type": "error",
     "ename": "IndexError",
     "evalue": "list index out of range",
     "traceback": [
      "\u001b[1;31m---------------------------------------------------------------------------\u001b[0m",
      "\u001b[1;31mIndexError\u001b[0m                                Traceback (most recent call last)",
      "\u001b[1;32m~\\AppData\\Local\\Temp/ipykernel_24936/4002572811.py\u001b[0m in \u001b[0;36m<module>\u001b[1;34m\u001b[0m\n\u001b[1;32m----> 1\u001b[1;33m \u001b[0mcard\u001b[0m \u001b[1;33m=\u001b[0m \u001b[0mcard_list\u001b[0m\u001b[1;33m[\u001b[0m\u001b[1;36m0\u001b[0m\u001b[1;33m]\u001b[0m\u001b[1;33m\u001b[0m\u001b[1;33m\u001b[0m\u001b[0m\n\u001b[0m\u001b[0;32m      2\u001b[0m \u001b[1;32mdef\u001b[0m \u001b[0mstudent_card_detect\u001b[0m\u001b[1;33m(\u001b[0m\u001b[0mcard\u001b[0m\u001b[1;33m)\u001b[0m\u001b[1;33m:\u001b[0m\u001b[1;33m\u001b[0m\u001b[1;33m\u001b[0m\u001b[0m\n\u001b[0;32m      3\u001b[0m     \u001b[0mcode\u001b[0m \u001b[1;33m=\u001b[0m \u001b[0mdecode\u001b[0m\u001b[1;33m(\u001b[0m\u001b[0mcard\u001b[0m\u001b[1;33m)\u001b[0m\u001b[1;33m\u001b[0m\u001b[1;33m\u001b[0m\u001b[0m\n\u001b[0;32m      4\u001b[0m     \u001b[0mid\u001b[0m \u001b[1;33m=\u001b[0m \u001b[0mcode\u001b[0m\u001b[1;33m[\u001b[0m\u001b[1;36m0\u001b[0m\u001b[1;33m]\u001b[0m\u001b[1;33m.\u001b[0m\u001b[0mdata\u001b[0m\u001b[1;33m.\u001b[0m\u001b[0mdecode\u001b[0m\u001b[1;33m(\u001b[0m\u001b[1;34m'utf-8'\u001b[0m\u001b[1;33m)\u001b[0m\u001b[1;33m\u001b[0m\u001b[1;33m\u001b[0m\u001b[0m\n\u001b[0;32m      5\u001b[0m     \u001b[1;32mfor\u001b[0m \u001b[0mi\u001b[0m \u001b[1;32min\u001b[0m \u001b[0mrange\u001b[0m\u001b[1;33m(\u001b[0m\u001b[0mlen\u001b[0m\u001b[1;33m(\u001b[0m\u001b[0mstudent_data\u001b[0m\u001b[1;33m)\u001b[0m\u001b[1;33m)\u001b[0m\u001b[1;33m:\u001b[0m\u001b[1;33m\u001b[0m\u001b[1;33m\u001b[0m\u001b[0m\n",
      "\u001b[1;31mIndexError\u001b[0m: list index out of range"
     ]
    }
   ],
   "metadata": {}
  },
  {
   "cell_type": "markdown",
   "source": [
    "### Ex6: Get information on Book"
   ],
   "metadata": {}
  },
  {
   "cell_type": "code",
   "execution_count": 6,
   "source": [
    "book_01 = cv2.imread(\"Book_List/BOOK_01.jpg\")\r\n",
    "book_02 = cv2.imread(\"Book_List/BOOK_02.jpg\")\r\n",
    "book_03 = cv2.imread(\"Book_List/BOOK_03.jpg\")\r\n",
    "\r\n",
    "def book_detect(book):\r\n",
    "    book_code = decode(book)\r\n",
    "    code = book_code[0].data.decode('utf-8')\r\n",
    "\r\n",
    "    for i in range(len(book_data)):\r\n",
    "        if code == book_data.loc[i,'CODE']:\r\n",
    "            return(book_data.loc[i])\r\n",
    "         \r\n",
    "# print(book_detect(book_02))\r\n",
    "# print(book_info['BOOK'])"
   ],
   "outputs": [],
   "metadata": {}
  },
  {
   "cell_type": "markdown",
   "source": [
    "### Ex7: Import Book to borrow book list when student get the book"
   ],
   "metadata": {}
  },
  {
   "cell_type": "code",
   "execution_count": 7,
   "source": [
    "card_info = student_card_detect(card)\r\n",
    "card_info_01 = student_card_detect(card_01)\r\n",
    "cart_info_02 = student_card_detect(card_02)\r\n",
    "book_info = book_detect(book_01)\r\n",
    "book_info_02 = book_detect(book_02)\r\n",
    "book_info_03 = book_detect(book_03)\r\n",
    "borrow_list = pd.DataFrame(columns=['BOOK','ID','Student_name'],)  \r\n",
    "def borrow_book(card_info, book_info):\r\n",
    "    borrow_info = pd.DataFrame({'BOOK':book_info['BOOK'],'ID':card_info['Student_ID'],'Student_name':card_info['STUDENT']}, index = [0])\r\n",
    "    return borrow_info\r\n",
    "\r\n",
    "borrow_list = borrow_list.append(borrow_book(card_info, book_info))\r\n",
    "borrow_list = borrow_list.append(borrow_book(card_info, book_info))\r\n",
    "borrow_list = borrow_list.append(borrow_book(card_info, book_info))\r\n",
    "borrow_list = borrow_list.append(borrow_book(card_info, book_info))\r\n",
    "\r\n",
    "\r\n",
    "file = pd.ExcelWriter('DATA.xlsx', mode='a', if_sheet_exists = 'replace')\r\n",
    "borrow_list.to_excel(file, 'Borrowed data')\r\n",
    "file.save()\r\n",
    "print(borrow_list)"
   ],
   "outputs": [
    {
     "output_type": "stream",
     "name": "stdout",
     "text": [
      "                           BOOK        ID      Student_name\n",
      "0            Vào Trong Hoang Dã  20040004  Nguyễn Quang Hào\n",
      "0  Tương Lai Sau Đại Dịch Covid  20040004  Nguyễn Quang Hào\n",
      "0          Tư Duy Nhanh Và Chậm  20040004  Nguyễn Quang Hào\n"
     ]
    }
   ],
   "metadata": {}
  },
  {
   "cell_type": "code",
   "execution_count": null,
   "source": [],
   "outputs": [],
   "metadata": {}
  },
  {
   "cell_type": "code",
   "execution_count": 18,
   "source": [
    "#detect clone Student card:\r\n",
    "card = cv2.imread('Student_Card/STUDENT_CARD_00_diff.jpg')\r\n",
    "card = cv2.resize(card,(600,400))\r\n",
    "\r\n",
    "cardGray = cv2.cvtColor(card,cv2.COLOR_BGR2GRAY)\r\n",
    "cardBlur = cv2.GaussianBlur(cardGray,(5,5),10)\r\n",
    "cardCanny = cv2.Canny(cardGray,150,200)\r\n",
    "countours,__ = cv2.findContours(cardCanny, cv2.RETR_EXTERNAL, cv2.CHAIN_APPROX_SIMPLE)\r\n",
    "cv2.drawContours(card,countours,-1,(0,255,0),1)\r\n",
    "\r\n",
    "def rectangle_countours(countours):\r\n",
    "    rect_cnts = []\r\n",
    "    for c in countours:\r\n",
    "        area = cv2.contourArea(c)\r\n",
    "        # print(area)\r\n",
    "        if area > 50:\r\n",
    "            peri = cv2.arcLength(c,True)\r\n",
    "            approx = cv2.approxPolyDP(c,0.02*peri,True)\r\n",
    "            # print(len(approx))\r\n",
    "            if len(approx) == 4:\r\n",
    "                rect_cnts.append(c)   \r\n",
    "    rect_cnts = sorted(rect_cnts,key = cv2.contourArea,reverse=True)\r\n",
    "    return rect_cnts\r\n",
    "\r\n",
    "def get_conrner_point(c):\r\n",
    "    peri = cv2.arcLength(c,True)\r\n",
    "    approx = cv2.approxPolyDP(c,0.04*peri,True)\r\n",
    "    return approx\r\n",
    "\r\n",
    "def four_points(points):\r\n",
    "    points = points.reshape(4,2)\r\n",
    "    new_points = np.zeros((4,1,2),dtype=\"float32\")\r\n",
    "\r\n",
    "    s = points.sum(axis = 1)\r\n",
    "    new_points[0] = points[np.argmin(s)]\r\n",
    "    new_points[3] = points[np.argmax(s)]\r\n",
    "\r\n",
    "    diff = np.diff(points, axis = 1)\r\n",
    "    new_points[1] = points[np.argmin(diff)]\r\n",
    "    new_points[2] = points[np.argmax(diff)]\r\n",
    "\r\n",
    "    return new_points\r\n",
    "\r\n",
    "rect_cnts = rectangle_countours(countours)\r\n",
    "biggest_countours = get_conrner_point(rect_cnts[0])\r\n",
    "\r\n",
    "if biggest_countours.size != 0:\r\n",
    "    # cv2.drawContours(card,biggest_countours,-1,(255,0,0),20)\r\n",
    "    # four_points(biggest_countours)    \r\n",
    "    biggest_countours = four_points(biggest_countours)\r\n",
    "\r\n",
    "    point_1 = np.float32(biggest_countours)\r\n",
    "    point_2 = np.float32([[0,0],[600,0],[0,400],[600,400]])\r\n",
    "    \r\n",
    "    matrix = cv2.getPerspectiveTransform(point_1,point_2)\r\n",
    "    card_warp = cv2.warpPerspective(card,matrix,(600,400))     \r\n",
    "               \r\n",
    "cv2.imshow('card',card)\r\n",
    "cv2.waitKey(0)"
   ],
   "outputs": [
    {
     "output_type": "error",
     "ename": "IndexError",
     "evalue": "list index out of range",
     "traceback": [
      "\u001b[1;31m---------------------------------------------------------------------------\u001b[0m",
      "\u001b[1;31mIndexError\u001b[0m                                Traceback (most recent call last)",
      "\u001b[1;32m~\\AppData\\Local\\Temp/ipykernel_24936/4212024772.py\u001b[0m in \u001b[0;36m<module>\u001b[1;34m\u001b[0m\n\u001b[0;32m     43\u001b[0m \u001b[1;33m\u001b[0m\u001b[0m\n\u001b[0;32m     44\u001b[0m \u001b[0mrect_cnts\u001b[0m \u001b[1;33m=\u001b[0m \u001b[0mrectangle_countours\u001b[0m\u001b[1;33m(\u001b[0m\u001b[0mcountours\u001b[0m\u001b[1;33m)\u001b[0m\u001b[1;33m\u001b[0m\u001b[1;33m\u001b[0m\u001b[0m\n\u001b[1;32m---> 45\u001b[1;33m \u001b[0mbiggest_countours\u001b[0m \u001b[1;33m=\u001b[0m \u001b[0mget_conrner_point\u001b[0m\u001b[1;33m(\u001b[0m\u001b[0mrect_cnts\u001b[0m\u001b[1;33m[\u001b[0m\u001b[1;36m0\u001b[0m\u001b[1;33m]\u001b[0m\u001b[1;33m)\u001b[0m\u001b[1;33m\u001b[0m\u001b[1;33m\u001b[0m\u001b[0m\n\u001b[0m\u001b[0;32m     46\u001b[0m \u001b[1;33m\u001b[0m\u001b[0m\n\u001b[0;32m     47\u001b[0m \u001b[1;32mif\u001b[0m \u001b[0mbiggest_countours\u001b[0m\u001b[1;33m.\u001b[0m\u001b[0msize\u001b[0m \u001b[1;33m!=\u001b[0m \u001b[1;36m0\u001b[0m\u001b[1;33m:\u001b[0m\u001b[1;33m\u001b[0m\u001b[1;33m\u001b[0m\u001b[0m\n",
      "\u001b[1;31mIndexError\u001b[0m: list index out of range"
     ]
    }
   ],
   "metadata": {}
  },
  {
   "cell_type": "code",
   "execution_count": null,
   "source": [],
   "outputs": [],
   "metadata": {}
  }
 ],
 "metadata": {
  "orig_nbformat": 4,
  "language_info": {
   "name": "python",
   "version": "3.9.0",
   "mimetype": "text/x-python",
   "codemirror_mode": {
    "name": "ipython",
    "version": 3
   },
   "pygments_lexer": "ipython3",
   "nbconvert_exporter": "python",
   "file_extension": ".py"
  },
  "kernelspec": {
   "name": "python3",
   "display_name": "Python 3.9.0 64-bit"
  },
  "interpreter": {
   "hash": "122d820ec5ee9d7c4897e63a93a2865e0cf595184c97c2c83b28cebf89d17afe"
  }
 },
 "nbformat": 4,
 "nbformat_minor": 2
}