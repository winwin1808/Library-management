{
 "cells": [
  {
   "cell_type": "code",
   "execution_count": 9,
   "source": [
    "import cv2 #pip install opencv-python\r\n",
    "import pandas as pd #pip install pandas\r\n",
    "import os #no need to install\r\n",
    "from pyzbar.pyzbar import decode #pip install pyzbar \r\n",
    "os.chdir(\"D:\\LEARN\\Python\\Final_Project\")"
   ],
   "outputs": [],
   "metadata": {}
  },
  {
   "cell_type": "markdown",
   "source": [
    "### Ex1: Create a student dataset with ID"
   ],
   "metadata": {}
  },
  {
   "cell_type": "code",
   "execution_count": 36,
   "source": [
    "student_data = pd.read_excel(\"DATA.xlsx\", sheet_name = \"Student data\")\r\n",
    "student_data.head()"
   ],
   "outputs": [
    {
     "output_type": "execute_result",
     "data": {
      "text/html": [
       "<div>\n",
       "<style scoped>\n",
       "    .dataframe tbody tr th:only-of-type {\n",
       "        vertical-align: middle;\n",
       "    }\n",
       "\n",
       "    .dataframe tbody tr th {\n",
       "        vertical-align: top;\n",
       "    }\n",
       "\n",
       "    .dataframe thead th {\n",
       "        text-align: right;\n",
       "    }\n",
       "</style>\n",
       "<table border=\"1\" class=\"dataframe\">\n",
       "  <thead>\n",
       "    <tr style=\"text-align: right;\">\n",
       "      <th></th>\n",
       "      <th>Student_ID</th>\n",
       "      <th>STUDENT</th>\n",
       "      <th>Student_Major</th>\n",
       "      <th>Student_Class</th>\n",
       "    </tr>\n",
       "  </thead>\n",
       "  <tbody>\n",
       "    <tr>\n",
       "      <th>0</th>\n",
       "      <td>20040004</td>\n",
       "      <td>Nguyễn Quang Hào</td>\n",
       "      <td>DS</td>\n",
       "      <td>20DS</td>\n",
       "    </tr>\n",
       "    <tr>\n",
       "      <th>1</th>\n",
       "      <td>20040003</td>\n",
       "      <td>Nguyễn Văn A</td>\n",
       "      <td>DS</td>\n",
       "      <td>20DS</td>\n",
       "    </tr>\n",
       "    <tr>\n",
       "      <th>2</th>\n",
       "      <td>20040002</td>\n",
       "      <td>Phan Văn B</td>\n",
       "      <td>IBM</td>\n",
       "      <td>20IBM1</td>\n",
       "    </tr>\n",
       "    <tr>\n",
       "      <th>3</th>\n",
       "      <td>20040000</td>\n",
       "      <td>Lê Thị Tấm</td>\n",
       "      <td>CSE</td>\n",
       "      <td>20CSE</td>\n",
       "    </tr>\n",
       "    <tr>\n",
       "      <th>4</th>\n",
       "      <td>20040001</td>\n",
       "      <td>Trần Chín</td>\n",
       "      <td>THM</td>\n",
       "      <td>20THM1</td>\n",
       "    </tr>\n",
       "  </tbody>\n",
       "</table>\n",
       "</div>"
      ],
      "text/plain": [
       "   Student_ID           STUDENT Student_Major Student_Class\n",
       "0    20040004  Nguyễn Quang Hào            DS          20DS\n",
       "1    20040003      Nguyễn Văn A            DS          20DS\n",
       "2    20040002        Phan Văn B           IBM        20IBM1\n",
       "3    20040000        Lê Thị Tấm           CSE         20CSE\n",
       "4    20040001         Trần Chín           THM        20THM1"
      ]
     },
     "metadata": {},
     "execution_count": 36
    }
   ],
   "metadata": {}
  },
  {
   "cell_type": "markdown",
   "source": [
    "### Ex2: Create a book dataset with code "
   ],
   "metadata": {}
  },
  {
   "cell_type": "code",
   "execution_count": 37,
   "source": [
    "book_data = pd.read_excel(\"DATA.xlsx\", sheet_name = \"Book data\")\r\n",
    "book_data.head()"
   ],
   "outputs": [
    {
     "output_type": "execute_result",
     "data": {
      "text/html": [
       "<div>\n",
       "<style scoped>\n",
       "    .dataframe tbody tr th:only-of-type {\n",
       "        vertical-align: middle;\n",
       "    }\n",
       "\n",
       "    .dataframe tbody tr th {\n",
       "        vertical-align: top;\n",
       "    }\n",
       "\n",
       "    .dataframe thead th {\n",
       "        text-align: right;\n",
       "    }\n",
       "</style>\n",
       "<table border=\"1\" class=\"dataframe\">\n",
       "  <thead>\n",
       "    <tr style=\"text-align: right;\">\n",
       "      <th></th>\n",
       "      <th>CODE</th>\n",
       "      <th>BOOK</th>\n",
       "      <th>AUTHOR</th>\n",
       "    </tr>\n",
       "  </thead>\n",
       "  <tbody>\n",
       "    <tr>\n",
       "      <th>0</th>\n",
       "      <td>NaN</td>\n",
       "      <td>Những Cuộc Phiêu Lưu Trong Kinh Doanh</td>\n",
       "      <td>John Brooks</td>\n",
       "    </tr>\n",
       "    <tr>\n",
       "      <th>1</th>\n",
       "      <td>NaN</td>\n",
       "      <td>Tư Duy Nhanh Và Chậm</td>\n",
       "      <td>Daniel Kahneman</td>\n",
       "    </tr>\n",
       "    <tr>\n",
       "      <th>2</th>\n",
       "      <td>NaN</td>\n",
       "      <td>Vào Trong Hoang Dã</td>\n",
       "      <td>Jon Krakauer</td>\n",
       "    </tr>\n",
       "    <tr>\n",
       "      <th>3</th>\n",
       "      <td>NaN</td>\n",
       "      <td>Tương Lai Sau Đại Dịch Covid</td>\n",
       "      <td>Jason Schenker</td>\n",
       "    </tr>\n",
       "    <tr>\n",
       "      <th>4</th>\n",
       "      <td>NaN</td>\n",
       "      <td>Yêu những điều không hoàn hảo</td>\n",
       "      <td>Hea Min</td>\n",
       "    </tr>\n",
       "  </tbody>\n",
       "</table>\n",
       "</div>"
      ],
      "text/plain": [
       "   CODE                                   BOOK           AUTHOR\n",
       "0   NaN  Những Cuộc Phiêu Lưu Trong Kinh Doanh      John Brooks\n",
       "1   NaN                   Tư Duy Nhanh Và Chậm  Daniel Kahneman\n",
       "2   NaN                     Vào Trong Hoang Dã     Jon Krakauer\n",
       "3   NaN           Tương Lai Sau Đại Dịch Covid   Jason Schenker\n",
       "4   NaN          Yêu những điều không hoàn hảo          Hea Min"
      ]
     },
     "metadata": {},
     "execution_count": 37
    }
   ],
   "metadata": {}
  },
  {
   "cell_type": "markdown",
   "source": [
    "### Ex3: Scan infomation on Student Card"
   ],
   "metadata": {}
  },
  {
   "cell_type": "code",
   "execution_count": 33,
   "source": [
    "img = cv2.imread('STUDENT_CARD.jpg')\r\n",
    "code = decode(img)\r\n",
    "# result = list()\r\n",
    "for i in code:\r\n",
    "    id = i.data.decode('utf-8')\r\n",
    "\r\n",
    "for i in range(len(student_data)):\r\n",
    "    if int(id) == int(student_data.loc[i,'Student_ID']):\r\n",
    "        print(student_data.loc[i])\r\n",
    "# data = student_data.loc[0,'Student number']\r\n",
    "# print(result)"
   ],
   "outputs": [
    {
     "output_type": "stream",
     "name": "stdout",
     "text": [
      "Student_ID               20040004\n",
      "STUDENT          Nguyễn Quang Hào\n",
      "Student_Major                  DS\n",
      "Student_Class                20DS\n",
      "Name: 0, dtype: object\n"
     ]
    }
   ],
   "metadata": {}
  },
  {
   "cell_type": "code",
   "execution_count": 40,
   "source": [
    "book = cv2.imread(\"BOOK_1.jpg\")\r\n",
    "book_code = decode(book)\r\n",
    "for i in book_code:\r\n",
    "    print(i)"
   ],
   "outputs": [
    {
     "output_type": "stream",
     "name": "stdout",
     "text": [
      "Decoded(data=b'8936037799377', type='EAN13', rect=Rect(left=1160, top=1717, width=165, height=60), polygon=[Point(x=1160, y=1717), Point(x=1161, y=1757), Point(x=1162, y=1777), Point(x=1325, y=1776), Point(x=1325, y=1748), Point(x=1324, y=1722), Point(x=1323, y=1718)])\n",
      "Decoded(data=b'9786049317279', type='EAN13', rect=Rect(left=1158, top=1660, width=166, height=40), polygon=[Point(x=1158, y=1661), Point(x=1158, y=1669), Point(x=1159, y=1699), Point(x=1324, y=1700), Point(x=1323, y=1676), Point(x=1322, y=1662), Point(x=1243, y=1660)])\n"
     ]
    }
   ],
   "metadata": {}
  },
  {
   "cell_type": "code",
   "execution_count": null,
   "source": [],
   "outputs": [],
   "metadata": {}
  }
 ],
 "metadata": {
  "orig_nbformat": 4,
  "language_info": {
   "name": "python",
   "version": "3.9.0",
   "mimetype": "text/x-python",
   "codemirror_mode": {
    "name": "ipython",
    "version": 3
   },
   "pygments_lexer": "ipython3",
   "nbconvert_exporter": "python",
   "file_extension": ".py"
  },
  "kernelspec": {
   "name": "python3",
   "display_name": "Python 3.9.0 64-bit"
  },
  "interpreter": {
   "hash": "122d820ec5ee9d7c4897e63a93a2865e0cf595184c97c2c83b28cebf89d17afe"
  }
 },
 "nbformat": 4,
 "nbformat_minor": 2
}